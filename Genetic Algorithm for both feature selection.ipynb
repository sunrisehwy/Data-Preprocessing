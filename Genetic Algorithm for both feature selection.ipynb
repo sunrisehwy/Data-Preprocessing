{
  "nbformat": 4,
  "nbformat_minor": 0,
  "metadata": {
    "colab": {
      "name": "508_Assingment_5_2_Genetic_Algorithm.ipynb",
      "provenance": [],
      "collapsed_sections": []
    },
    "kernelspec": {
      "name": "python3",
      "display_name": "Python 3"
    },
    "language_info": {
      "name": "python"
    }
  },
  "cells": [
    {
      "cell_type": "code",
      "execution_count": null,
      "metadata": {
        "colab": {
          "base_uri": "https://localhost:8080/"
        },
        "id": "fI_Rwhi6A7kt",
        "outputId": "2c9cb2be-53fb-4664-a084-56cf0b84f9bf"
      },
      "outputs": [
        {
          "output_type": "stream",
          "name": "stdout",
          "text": [
            "Mounted at /gdrive\n",
            "/gdrive\n"
          ]
        }
      ],
      "source": [
        "\n",
        "# For the code to do so you can search “mount” in code snippets or use the code given below. \n",
        "# Our entire drive contents are now mounted on colab at the location “/gdrive”.\n",
        "from google.colab import drive\n",
        "drive.mount('/gdrive')\n",
        "#Change current working directory to gdrive\n",
        "%cd /gdrive"
      ]
    },
    {
      "cell_type": "code",
      "source": [
        "!pip install sklearn-genetic\n",
        "!pip install sklearn-genetic-opt"
      ],
      "metadata": {
        "colab": {
          "base_uri": "https://localhost:8080/"
        },
        "id": "p9qPfg0tBEU3",
        "outputId": "6ab041f1-9701-45da-8e95-3ead287ac02c"
      },
      "execution_count": null,
      "outputs": [
        {
          "output_type": "stream",
          "name": "stdout",
          "text": [
            "Collecting sklearn-genetic\n",
            "  Downloading sklearn_genetic-0.4.1-py2.py3-none-any.whl (10 kB)\n",
            "Requirement already satisfied: scikit-learn>=0.20.3 in /usr/local/lib/python3.7/dist-packages (from sklearn-genetic) (1.0.1)\n",
            "Collecting deap>=1.0.2\n",
            "  Downloading deap-1.3.1-cp37-cp37m-manylinux_2_5_x86_64.manylinux1_x86_64.manylinux_2_12_x86_64.manylinux2010_x86_64.whl (160 kB)\n",
            "\u001b[?25l\r\u001b[K     |██                              | 10 kB 25.8 MB/s eta 0:00:01\r\u001b[K     |████                            | 20 kB 34.2 MB/s eta 0:00:01\r\u001b[K     |██████                          | 30 kB 39.8 MB/s eta 0:00:01\r\u001b[K     |████████▏                       | 40 kB 42.9 MB/s eta 0:00:01\r\u001b[K     |██████████▏                     | 51 kB 17.3 MB/s eta 0:00:01\r\u001b[K     |████████████▏                   | 61 kB 14.0 MB/s eta 0:00:01\r\u001b[K     |██████████████▎                 | 71 kB 14.6 MB/s eta 0:00:01\r\u001b[K     |████████████████▎               | 81 kB 16.2 MB/s eta 0:00:01\r\u001b[K     |██████████████████▎             | 92 kB 17.8 MB/s eta 0:00:01\r\u001b[K     |████████████████████▍           | 102 kB 19.3 MB/s eta 0:00:01\r\u001b[K     |██████████████████████▍         | 112 kB 19.3 MB/s eta 0:00:01\r\u001b[K     |████████████████████████▍       | 122 kB 19.3 MB/s eta 0:00:01\r\u001b[K     |██████████████████████████▌     | 133 kB 19.3 MB/s eta 0:00:01\r\u001b[K     |████████████████████████████▌   | 143 kB 19.3 MB/s eta 0:00:01\r\u001b[K     |██████████████████████████████▌ | 153 kB 19.3 MB/s eta 0:00:01\r\u001b[K     |████████████████████████████████| 160 kB 19.3 MB/s \n",
            "\u001b[?25hRequirement already satisfied: numpy in /usr/local/lib/python3.7/dist-packages (from deap>=1.0.2->sklearn-genetic) (1.19.5)\n",
            "Requirement already satisfied: scipy>=1.1.0 in /usr/local/lib/python3.7/dist-packages (from scikit-learn>=0.20.3->sklearn-genetic) (1.4.1)\n",
            "Requirement already satisfied: threadpoolctl>=2.0.0 in /usr/local/lib/python3.7/dist-packages (from scikit-learn>=0.20.3->sklearn-genetic) (3.0.0)\n",
            "Requirement already satisfied: joblib>=0.11 in /usr/local/lib/python3.7/dist-packages (from scikit-learn>=0.20.3->sklearn-genetic) (1.1.0)\n",
            "Installing collected packages: deap, sklearn-genetic\n",
            "Successfully installed deap-1.3.1 sklearn-genetic-0.4.1\n",
            "Collecting sklearn-genetic-opt\n",
            "  Downloading sklearn_genetic_opt-0.7.0-py3-none-any.whl (29 kB)\n",
            "Requirement already satisfied: scikit-learn>=0.21.3 in /usr/local/lib/python3.7/dist-packages (from sklearn-genetic-opt) (1.0.1)\n",
            "Requirement already satisfied: numpy>=1.14.5 in /usr/local/lib/python3.7/dist-packages (from sklearn-genetic-opt) (1.19.5)\n",
            "Requirement already satisfied: tqdm>=4.61.1 in /usr/local/lib/python3.7/dist-packages (from sklearn-genetic-opt) (4.62.3)\n",
            "Requirement already satisfied: deap>=1.3.1 in /usr/local/lib/python3.7/dist-packages (from sklearn-genetic-opt) (1.3.1)\n",
            "Requirement already satisfied: threadpoolctl>=2.0.0 in /usr/local/lib/python3.7/dist-packages (from scikit-learn>=0.21.3->sklearn-genetic-opt) (3.0.0)\n",
            "Requirement already satisfied: scipy>=1.1.0 in /usr/local/lib/python3.7/dist-packages (from scikit-learn>=0.21.3->sklearn-genetic-opt) (1.4.1)\n",
            "Requirement already satisfied: joblib>=0.11 in /usr/local/lib/python3.7/dist-packages (from scikit-learn>=0.21.3->sklearn-genetic-opt) (1.1.0)\n",
            "Installing collected packages: sklearn-genetic-opt\n",
            "Successfully installed sklearn-genetic-opt-0.7.0\n"
          ]
        }
      ]
    },
    {
      "cell_type": "code",
      "source": [
        "import pandas as pd\n",
        "import numpy as np\n",
        "from collections import Counter\n",
        "from sklearn.metrics import accuracy_score \n",
        "from sklearn.model_selection import cross_val_score\n",
        "from sklearn.model_selection import train_test_split\n",
        "from sklearn.metrics import classification_report, confusion_matrix\n",
        "\n",
        "# Import libraries for estimator\n",
        "from sklearn.ensemble import RandomForestClassifier\n",
        "from sklearn.tree import DecisionTreeClassifier\n",
        "from sklearn.model_selection import GridSearchCV\n",
        "from sklearn.model_selection import RandomizedSearchCV \n",
        "from sklearn.ensemble import GradientBoostingClassifier\n",
        "\n",
        "# Import libraries for feature selection\n",
        "from sklearn.feature_selection import SelectFromModel \n",
        "from sklearn.feature_selection import SelectKBest \n",
        "from genetic_selection import GeneticSelectionCV\n",
        "from sklearn.feature_selection import chi2, f_classif \n",
        "from imblearn.under_sampling import RandomUnderSampler\n",
        "from sklearn_genetic import GASearchCV\n",
        "from sklearn_genetic.space import Continuous, Categorical, Integer\n",
        "\n",
        "import warnings\n",
        "warnings.filterwarnings(\"ignore\")"
      ],
      "metadata": {
        "id": "GUW5nTsHBJ16"
      },
      "execution_count": null,
      "outputs": []
    },
    {
      "cell_type": "code",
      "source": [
        "#Read files and EDA\n",
        "trainfile = r'/gdrive/MyDrive/CIS508/Assignment_5/Problem_2_GA/Santander_Train.csv'\n",
        "train_data = pd.read_csv(trainfile)\n",
        "\n",
        "testfile = r'/gdrive/MyDrive/CIS508/Assignment_5/Problem_2_GA/Santander_Test.csv'\n",
        "test_data = pd.read_csv(testfile)\n",
        "\n",
        "print(train_data.shape)\n",
        "print(train_data.head()) \n",
        "print()\n",
        "print(test_data.shape)\n",
        "print(test_data.head()) "
      ],
      "metadata": {
        "colab": {
          "base_uri": "https://localhost:8080/"
        },
        "id": "vU3FntyRBMOx",
        "outputId": "f69c1342-96f3-4d13-924e-f32c1c1b5cff"
      },
      "execution_count": null,
      "outputs": [
        {
          "output_type": "stream",
          "name": "stdout",
          "text": [
            "(76020, 371)\n",
            "   ID  var3  var15  ...  saldo_medio_var44_ult3       var38  TARGET\n",
            "0   1     2     23  ...                     0.0   39205.170       0\n",
            "1   3     2     34  ...                     0.0   49278.030       0\n",
            "2   4     2     23  ...                     0.0   67333.770       0\n",
            "3   8     2     37  ...                     0.0   64007.970       0\n",
            "4  10     2     39  ...                     0.0  117310.979       0\n",
            "\n",
            "[5 rows x 371 columns]\n",
            "\n",
            "(75818, 370)\n",
            "   ID  var3  var15  ...  saldo_medio_var44_ult1  saldo_medio_var44_ult3      var38\n",
            "0   2     2     32  ...                     0.0                     0.0   40532.10\n",
            "1   5     2     35  ...                     0.0                     0.0   45486.72\n",
            "2   6     2     23  ...                     0.0                     0.0   46993.95\n",
            "3   7     2     24  ...                     0.0                     0.0  187898.61\n",
            "4   9     2     23  ...                     0.0                     0.0   73649.73\n",
            "\n",
            "[5 rows x 370 columns]\n"
          ]
        }
      ]
    },
    {
      "cell_type": "code",
      "source": [
        "#Train/Test data target seperate \n",
        "\n",
        "y_train=train_data[\"TARGET\"]\n",
        "X_train=train_data.drop('TARGET',axis=1)\n",
        "X_test=test_data.copy()\n",
        "\n",
        "print(X_train.shape)\n",
        "print(y_train.shape)\n",
        "print(X_test.shape)"
      ],
      "metadata": {
        "colab": {
          "base_uri": "https://localhost:8080/"
        },
        "id": "L3TezZUlBPrb",
        "outputId": "4fd9961a-b6a2-4e52-88e3-8be3a9867e9f"
      },
      "execution_count": null,
      "outputs": [
        {
          "output_type": "stream",
          "name": "stdout",
          "text": [
            "(76020, 370)\n",
            "(76020,)\n",
            "(75818, 370)\n"
          ]
        }
      ]
    },
    {
      "cell_type": "code",
      "source": [
        "#drop ID column\n",
        "X_train=X_train.drop('ID',axis=1)\n",
        "X_test=X_test.drop('ID',axis=1)\n",
        "\n",
        "print(X_train.shape)\n",
        "print(y_train.shape)\n",
        "print(X_test.shape)"
      ],
      "metadata": {
        "colab": {
          "base_uri": "https://localhost:8080/"
        },
        "id": "t_fUFev5BUFN",
        "outputId": "a7f88c27-0583-42ac-cbd9-14352b2696ef"
      },
      "execution_count": null,
      "outputs": [
        {
          "output_type": "stream",
          "name": "stdout",
          "text": [
            "(76020, 369)\n",
            "(76020,)\n",
            "(75818, 369)\n"
          ]
        }
      ]
    },
    {
      "cell_type": "markdown",
      "source": [
        "**Imbalanced Dataset Handling**"
      ],
      "metadata": {
        "id": "DQBc632FDvoK"
      }
    },
    {
      "cell_type": "markdown",
      "source": [
        "1. Undersampling for data balancing"
      ],
      "metadata": {
        "id": "GOYJs7niCsqw"
      }
    },
    {
      "cell_type": "code",
      "source": [
        "print('Original dataset shape %s' % Counter(y_train))"
      ],
      "metadata": {
        "colab": {
          "base_uri": "https://localhost:8080/"
        },
        "id": "1sYQBNdfBTcr",
        "outputId": "a1f15673-b94c-4764-a59d-a423ad1707a1"
      },
      "execution_count": null,
      "outputs": [
        {
          "output_type": "stream",
          "name": "stdout",
          "text": [
            "Original dataset shape Counter({0: 73012, 1: 3008})\n"
          ]
        }
      ]
    },
    {
      "cell_type": "code",
      "source": [
        "#Majority Undersampling\n",
        "#Majority:Minority = 3008:3008\n",
        "rus_1 = RandomUnderSampler(random_state=17, sampling_strategy={0: 3008, 1: 3008})\n",
        "X_res_1, y_res_1 = rus_1.fit_resample(X_train, y_train)\n",
        "\n",
        "print('Resampled dataset shape 1 %s' % Counter(y_res_1))\n",
        "\n",
        "#Majority:Minority = 6000:3008\n",
        "rus_2 = RandomUnderSampler(random_state=17, sampling_strategy={0: 6000, 1: 3008})\n",
        "X_res_2, y_res_2 = rus_2.fit_resample(X_train, y_train)\n",
        "\n",
        "print('Resampled dataset shape 2 %s' % Counter(y_res_2))\n",
        "\n",
        "#Majority:Minority = 12000:3008\n",
        "rus_3 = RandomUnderSampler(random_state=17, sampling_strategy={0: 12000, 1: 3008})\n",
        "X_res_3, y_res_3 = rus_3.fit_resample(X_train, y_train)\n",
        "\n",
        "print('Resampled dataset shape 3 %s' % Counter(y_res_3))\n",
        "\n",
        "#Majority:Minority = 15000:3008\n",
        "rus_4 = RandomUnderSampler(random_state=17, sampling_strategy={0: 15000, 1: 3008})\n",
        "X_res_4, y_res_4 = rus_4.fit_resample(X_train, y_train)\n",
        "\n",
        "print('Resampled dataset shape 4 %s' % Counter(y_res_4))\n",
        "\n",
        "#Majority:Minority = 18000:3008\n",
        "rus_5 = RandomUnderSampler(random_state=17, sampling_strategy={0: 18000, 1: 3008})\n",
        "X_res_5, y_res_5 = rus_5.fit_resample(X_train, y_train)\n",
        "\n",
        "print('Resampled dataset shape 5 %s' % Counter(y_res_5))\n",
        "\n",
        "#Majority:Minority = 21000:3008\n",
        "rus_6 = RandomUnderSampler(random_state=17, sampling_strategy={0: 21000, 1: 3008})\n",
        "X_res_6, y_res_6 = rus_6.fit_resample(X_train, y_train)\n",
        "\n",
        "print('Resampled dataset shape 6 %s' % Counter(y_res_6))\n",
        "\n",
        "#Majority:Minority = 24000:3008\n",
        "rus_7 = RandomUnderSampler(random_state=17, sampling_strategy={0: 24000, 1: 3008})\n",
        "X_res_7, y_res_7 = rus_7.fit_resample(X_train, y_train)\n",
        "\n",
        "print('Resampled dataset shape 7 %s' % Counter(y_res_7))"
      ],
      "metadata": {
        "colab": {
          "base_uri": "https://localhost:8080/"
        },
        "id": "UgzT2KUbCHBL",
        "outputId": "efeae23b-cb11-4969-8876-11fec7bf086f"
      },
      "execution_count": null,
      "outputs": [
        {
          "output_type": "stream",
          "name": "stdout",
          "text": [
            "Resampled dataset shape 1 Counter({0: 3008, 1: 3008})\n",
            "Resampled dataset shape 2 Counter({0: 6000, 1: 3008})\n",
            "Resampled dataset shape 3 Counter({0: 12000, 1: 3008})\n",
            "Resampled dataset shape 4 Counter({0: 15000, 1: 3008})\n",
            "Resampled dataset shape 5 Counter({0: 18000, 1: 3008})\n",
            "Resampled dataset shape 6 Counter({0: 21000, 1: 3008})\n",
            "Resampled dataset shape 7 Counter({0: 24000, 1: 3008})\n"
          ]
        }
      ]
    },
    {
      "cell_type": "code",
      "source": [
        "# Feature selection with Genetic Algorithm(GA)\n",
        "# Initial Hyperparameter Tunning for cost\n",
        "# Estimator = DecisionTree\n",
        "\n",
        "#Basic model set up \n",
        "estimator = DecisionTreeClassifier(random_state=17)\n",
        "selector = GeneticSelectionCV(estimator, cv=5, verbose=0,\n",
        "    scoring='balanced_accuracy', max_features=50,\n",
        "    n_population=50, crossover_proba=0.5,\n",
        "    mutation_proba=0.2, n_generations=50,\n",
        "    crossover_independent_proba=0.5,\n",
        "    mutation_independent_proba=0.04,\n",
        "    tournament_size=3, n_gen_no_change=10,\n",
        "    caching=True, n_jobs=-1)\n",
        "\n",
        "#Resampled data set 1\n",
        "\n",
        "selector_1 = selector.fit(X_res_1, y_res_1)\n",
        "print(\"Top Features in resampled data 1=======================\")\n",
        "print(X_res_1.columns[selector_1.support_ == True])\n",
        "print('Number of Top Features : %s' % len(X_res_1.columns[selector_1.support_ == True]))\n",
        "print(\"\\n\")\n",
        "\n",
        "list_1 = pd.DataFrame(X_res_1.columns[selector_1.support_ == True])\n",
        "export_csv= list_1.to_excel(r'/gdrive/MyDrive/CIS508/Assignment_5/Problem_2_GA/list/list_1.xlsx')\n",
        "\n",
        "\n",
        "#Resampled data set 2\n",
        "\n",
        "selector_2 = selector.fit(X_res_2, y_res_2)\n",
        "print(\"Top Features in resampled data 2=======================\")\n",
        "print(X_res_2.columns[selector_2.support_ == True])\n",
        "print('Number of Top Features : %s' % len(X_res_2.columns[selector_2.support_ == True]))\n",
        "print(\"\\n\")\n",
        "\n",
        "list_2 = pd.DataFrame(X_res_2.columns[selector_2.support_ == True])\n",
        "export_csv= list_2.to_excel(r'/gdrive/MyDrive/CIS508/Assignment_5/Problem_2_GA/list/list_2.xlsx')\n",
        "\n",
        "\n",
        "#Resampled data set 3\n",
        "\n",
        "selector_3 = selector.fit(X_res_3, y_res_3)\n",
        "print(\"Top Features in resampled data 3=======================\")\n",
        "print(X_res_3.columns[selector_3.support_ == True])\n",
        "print('Number of Top Features : %s' % len(X_res_3.columns[selector_3.support_ == True]))\n",
        "print(\"\\n\")\n",
        "\n",
        "list_3 = pd.DataFrame(X_res_3.columns[selector_3.support_ == True])\n",
        "export_csv= list_3.to_excel(r'/gdrive/MyDrive/CIS508/Assignment_5/Problem_2_GA/list/list_3.xlsx')\n",
        "\n",
        "#Resampled data set 4\n",
        "\n",
        "selector_4 = selector.fit(X_res_4, y_res_4)\n",
        "print(\"Top Features in resampled data 4=======================\")\n",
        "print(X_res_4.columns[selector_4.support_ == True])\n",
        "print('Number of Top Features : %s' % len(X_res_4.columns[selector_4.support_ == True]))\n",
        "print(\"\\n\")\n",
        "\n",
        "list_4 = pd.DataFrame(X_res_4.columns[selector_4.support_ == True])\n",
        "export_csv= list_4.to_excel(r'/gdrive/MyDrive/CIS508/Assignment_5/Problem_2_GA/list/list_4.xlsx')\n",
        "\n",
        "\n",
        "#Resampled data set 5\n",
        "\n",
        "selector_5 = selector.fit(X_res_5, y_res_5)\n",
        "print(\"Top Features in resampled data 5=======================\")\n",
        "print(X_res_5.columns[selector_5.support_ == True])\n",
        "print('Number of Top Features : %s' % len(X_res_5.columns[selector_5.support_ == True]))\n",
        "print(\"\\n\")\n",
        "\n",
        "list_5 = pd.DataFrame(X_res_5.columns[selector_5.support_ == True])\n",
        "export_csv= list_5.to_excel(r'/gdrive/MyDrive/CIS508/Assignment_5/Problem_2_GA/list/list_5.xlsx')\n",
        "\n",
        "#Resampled data set 6\n",
        "\n",
        "selector_6 = selector.fit(X_res_6, y_res_6)\n",
        "print(\"Top Features in resampled data 6=======================\")\n",
        "print(X_res_6.columns[selector_6.support_ == True])\n",
        "print('Number of Top Features : %s' % len(X_res_6.columns[selector_6.support_ == True]))\n",
        "print(\"\\n\")\n",
        "\n",
        "list_6 = pd.DataFrame(X_res_6.columns[selector_6.support_ == True])\n",
        "export_csv= list_6.to_excel(r'/gdrive/MyDrive/CIS508/Assignment_5/Problem_2_GA/list/list_6.xlsx')\n",
        "\n",
        "#Resampled data set 7\n",
        "\n",
        "selector_7 = selector.fit(X_res_7, y_res_7)\n",
        "print(\"Top Features in resampled data 7=======================\")\n",
        "print(X_res_7.columns[selector_7.support_ == True])\n",
        "print('Number of Top Features : %s' % len(X_res_7.columns[selector_7.support_ == True]))\n",
        "\n",
        "list_7 = pd.DataFrame(X_res_7.columns[selector_7.support_ == True])\n",
        "export_csv= list_7.to_excel(r'/gdrive/MyDrive/CIS508/Assignment_5/Problem_2_GA/list/list_7.xlsx')"
      ],
      "metadata": {
        "colab": {
          "base_uri": "https://localhost:8080/"
        },
        "id": "Z6UfPxslCMR6",
        "outputId": "07929a7e-2db9-47ac-f14b-baa69fc7ba95"
      },
      "execution_count": null,
      "outputs": [
        {
          "output_type": "stream",
          "name": "stdout",
          "text": [
            "Top Features in resampled data 1=======================\n",
            "Index(['var3', 'var15', 'imp_op_var40_efect_ult3', 'imp_op_var39_efect_ult1',\n",
            "       'ind_var8', 'ind_var13_corto_0', 'ind_var13_corto', 'ind_var31_0',\n",
            "       'ind_var34_0', 'num_var4', 'num_var8', 'num_var13_corto_0',\n",
            "       'num_var13_largo_0', 'num_var20', 'num_op_var40_ult1', 'num_var28',\n",
            "       'num_var27', 'num_var30_0', 'num_var31', 'num_var37_med_ult2',\n",
            "       'num_var40_0', 'num_var40', 'saldo_var13_corto', 'saldo_var30',\n",
            "       'delta_imp_reemb_var33_1y3', 'delta_imp_trasp_var33_in_1y3',\n",
            "       'imp_amort_var34_ult1', 'imp_aport_var13_hace3', 'imp_aport_var17_ult1',\n",
            "       'imp_compra_var44_ult1', 'ind_var43_recib_ult1', 'num_aport_var33_ult1',\n",
            "       'num_meses_var8_ult3', 'num_op_var39_efect_ult1', 'num_var43_emit_ult1',\n",
            "       'num_trasp_var11_ult1', 'saldo_medio_var5_ult3',\n",
            "       'saldo_medio_var13_corto_hace3', 'saldo_medio_var44_hace3'],\n",
            "      dtype='object')\n",
            "Number of Top Features : 39\n",
            "\n",
            "\n",
            "Top Features in resampled data 2=======================\n",
            "Index(['var3', 'var15', 'imp_ent_var16_ult1', 'imp_op_var40_efect_ult1',\n",
            "       'imp_op_var41_comer_ult3', 'imp_op_var39_efect_ult1', 'ind_var20_0',\n",
            "       'ind_var20', 'ind_var25_cte', 'ind_var29_0', 'ind_var32_0', 'ind_var33',\n",
            "       'num_var5', 'num_var6_0', 'num_var13_largo_0', 'num_var24',\n",
            "       'num_op_var41_hace2', 'num_op_var41_hace3', 'num_var31_0', 'num_var33',\n",
            "       'num_var35', 'num_var46', 'saldo_var13', 'saldo_var25', 'saldo_var28',\n",
            "       'delta_imp_aport_var17_1y3', 'delta_num_compra_var44_1y3',\n",
            "       'delta_num_reemb_var17_1y3', 'delta_num_trasp_var17_in_1y3',\n",
            "       'imp_amort_var34_hace3', 'imp_aport_var17_hace3',\n",
            "       'imp_aport_var17_ult1', 'imp_venta_var44_ult1', 'ind_var9_ult1',\n",
            "       'num_var2_0_ult1', 'num_med_var22_ult3', 'num_meses_var12_ult3',\n",
            "       'num_meses_var33_ult3', 'num_var43_recib_ult1',\n",
            "       'saldo_medio_var5_hace2', 'saldo_medio_var5_ult1',\n",
            "       'saldo_medio_var5_ult3', 'saldo_medio_var8_ult1',\n",
            "       'saldo_medio_var12_ult3', 'saldo_medio_var13_medio_hace2'],\n",
            "      dtype='object')\n",
            "Number of Top Features : 45\n",
            "\n",
            "\n",
            "Top Features in resampled data 3=======================\n",
            "Index(['var15', 'imp_ent_var16_ult1', 'imp_op_var39_comer_ult1',\n",
            "       'imp_op_var40_comer_ult3', 'ind_var28', 'ind_var30_0', 'ind_var32_0',\n",
            "       'ind_var46_0', 'num_var13_largo', 'num_var14_0', 'num_var17_0',\n",
            "       'num_op_var41_hace2', 'num_var29', 'num_var35', 'num_var42_0',\n",
            "       'saldo_var6', 'saldo_var13_medio', 'saldo_var30', 'saldo_var41',\n",
            "       'delta_num_compra_var44_1y3', 'delta_num_trasp_var17_in_1y3',\n",
            "       'imp_amort_var18_hace3', 'imp_amort_var34_ult1', 'imp_reemb_var13_ult1',\n",
            "       'imp_var43_emit_ult1', 'num_var2_ult1', 'num_aport_var13_hace3',\n",
            "       'num_var22_ult1', 'num_med_var45_ult3', 'num_meses_var8_ult3',\n",
            "       'num_meses_var33_ult3', 'num_op_var40_comer_ult3',\n",
            "       'num_op_var39_efect_ult1', 'num_reemb_var13_hace3',\n",
            "       'num_reemb_var17_hace3', 'num_reemb_var33_hace3', 'num_sal_var16_ult1',\n",
            "       'num_var43_recib_ult1', 'num_trasp_var11_ult1',\n",
            "       'num_trasp_var33_in_ult1', 'num_trasp_var33_out_ult1',\n",
            "       'saldo_medio_var5_hace3', 'saldo_medio_var13_medio_ult1',\n",
            "       'saldo_medio_var17_hace3', 'saldo_medio_var29_hace2',\n",
            "       'saldo_medio_var33_ult3', 'saldo_medio_var44_hace3'],\n",
            "      dtype='object')\n",
            "Number of Top Features : 47\n",
            "\n",
            "\n",
            "Top Features in resampled data 4=======================\n",
            "Index(['var3', 'var15', 'imp_op_var41_efect_ult3', 'ind_var12',\n",
            "       'ind_var13_corto', 'ind_var13_medio_0', 'ind_var26_cte', 'ind_var29',\n",
            "       'ind_var39_0', 'ind_var46', 'num_var6', 'num_var13_largo', 'num_var14',\n",
            "       'num_var25_0', 'num_var28_0', 'num_var27', 'num_var33_0', 'num_var44',\n",
            "       'num_var46_0', 'saldo_var12', 'saldo_var13_medio', 'saldo_var24',\n",
            "       'saldo_var26', 'saldo_var46', 'delta_num_reemb_var17_1y3',\n",
            "       'delta_num_trasp_var17_in_1y3', 'num_aport_var17_ult1',\n",
            "       'num_var7_emit_ult1', 'num_compra_var44_ult1', 'num_meses_var5_ult3',\n",
            "       'num_meses_var13_medio_ult3', 'num_meses_var17_ult3',\n",
            "       'num_op_var41_comer_ult3', 'num_reemb_var33_ult1',\n",
            "       'saldo_medio_var5_hace2', 'saldo_medio_var5_hace3',\n",
            "       'saldo_medio_var5_ult3', 'saldo_medio_var8_ult3',\n",
            "       'saldo_medio_var12_hace3', 'saldo_medio_var13_corto_hace2',\n",
            "       'saldo_medio_var13_largo_hace3'],\n",
            "      dtype='object')\n",
            "Number of Top Features : 41\n",
            "\n",
            "\n",
            "Top Features in resampled data 5=======================\n",
            "Index(['var15', 'imp_op_var40_efect_ult1', 'imp_op_var39_ult1', 'ind_var1_0',\n",
            "       'ind_var2_0', 'ind_var13_0', 'ind_var13_largo_0', 'ind_var14_0',\n",
            "       'ind_var24', 'ind_var32_0', 'num_var12', 'num_var13_0', 'num_var13',\n",
            "       'num_var17_0', 'num_var18_0', 'num_var25_0', 'num_var29_0', 'num_var33',\n",
            "       'num_var37_med_ult2', 'saldo_var26', 'var36',\n",
            "       'delta_imp_aport_var17_1y3', 'delta_imp_trasp_var17_out_1y3',\n",
            "       'delta_imp_trasp_var33_in_1y3', 'imp_var7_emit_ult1',\n",
            "       'imp_trasp_var17_in_hace3', 'imp_trasp_var17_out_ult1',\n",
            "       'imp_trasp_var33_out_ult1', 'num_var22_hace3',\n",
            "       'num_meses_var13_largo_ult3', 'num_meses_var17_ult3',\n",
            "       'num_meses_var44_ult3', 'num_reemb_var17_hace3',\n",
            "       'num_trasp_var17_out_ult1', 'saldo_var2_ult1', 'saldo_medio_var5_ult1',\n",
            "       'saldo_medio_var13_medio_hace2', 'saldo_medio_var17_hace2',\n",
            "       'saldo_medio_var29_hace2', 'saldo_medio_var33_hace3',\n",
            "       'saldo_medio_var44_hace3', 'var38'],\n",
            "      dtype='object')\n",
            "Number of Top Features : 42\n",
            "\n",
            "\n",
            "Top Features in resampled data 6=======================\n",
            "Index(['var3', 'var15', 'imp_op_var39_comer_ult1', 'imp_op_var41_ult1',\n",
            "       'ind_var8_0', 'ind_var13_medio', 'ind_var14', 'ind_var17',\n",
            "       'ind_var31_0', 'ind_var32_cte', 'ind_var44', 'num_var18_0', 'num_var20',\n",
            "       'num_op_var41_hace2', 'num_var29_0', 'num_var32', 'num_var40',\n",
            "       'saldo_var8', 'saldo_var13_corto', 'saldo_var30', 'var36',\n",
            "       'delta_num_reemb_var17_1y3', 'delta_num_trasp_var33_out_1y3',\n",
            "       'imp_amort_var34_ult1', 'imp_aport_var13_hace3', 'imp_aport_var17_ult1',\n",
            "       'imp_var7_recib_ult1', 'imp_reemb_var33_ult1', 'imp_venta_var44_ult1',\n",
            "       'ind_var9_ult1', 'num_var7_emit_ult1', 'num_ent_var16_ult1',\n",
            "       'num_meses_var13_corto_ult3', 'num_meses_var13_largo_ult3',\n",
            "       'num_meses_var29_ult3', 'num_op_var41_comer_ult1',\n",
            "       'num_op_var39_efect_ult3', 'num_reemb_var13_ult1', 'num_var45_ult1',\n",
            "       'saldo_medio_var5_ult1', 'saldo_medio_var13_corto_ult1',\n",
            "       'saldo_medio_var13_corto_ult3', 'saldo_medio_var17_hace2', 'var38'],\n",
            "      dtype='object')\n",
            "Number of Top Features : 44\n",
            "\n",
            "\n",
            "Top Features in resampled data 7=======================\n",
            "Index(['var15', 'imp_op_var39_ult1', 'imp_sal_var16_ult1', 'ind_var1_0',\n",
            "       'ind_var20_0', 'ind_var31', 'ind_var34_0', 'ind_var37_0', 'ind_var41_0',\n",
            "       'num_var6_0', 'num_var13_largo', 'num_op_var39_ult1', 'num_var30',\n",
            "       'num_var46_0', 'saldo_var30', 'saldo_var32', 'saldo_var34',\n",
            "       'delta_imp_reemb_var13_1y3', 'delta_num_aport_var33_1y3',\n",
            "       'delta_num_reemb_var13_1y3', 'delta_num_trasp_var33_in_1y3',\n",
            "       'imp_reemb_var13_ult1', 'imp_reemb_var33_ult1',\n",
            "       'imp_trasp_var33_in_ult1', 'imp_trasp_var33_out_ult1', 'var21',\n",
            "       'num_var7_recib_ult1', 'num_var22_ult1', 'num_meses_var5_ult3',\n",
            "       'num_meses_var13_largo_ult3', 'num_meses_var39_vig_ult3',\n",
            "       'num_op_var40_comer_ult1', 'num_op_var40_efect_ult1',\n",
            "       'num_trasp_var17_in_ult1', 'num_venta_var44_hace3', 'num_var45_ult1',\n",
            "       'num_var45_ult3', 'saldo_medio_var5_hace2', 'saldo_medio_var5_hace3',\n",
            "       'saldo_medio_var5_ult1', 'saldo_medio_var13_largo_ult3',\n",
            "       'saldo_medio_var13_medio_hace2', 'var38'],\n",
            "      dtype='object')\n",
            "Number of Top Features : 43\n"
          ]
        }
      ]
    },
    {
      "cell_type": "markdown",
      "source": [
        "Dataset selection"
      ],
      "metadata": {
        "id": "fpyt_G4dDouw"
      }
    },
    {
      "cell_type": "code",
      "source": [
        "#Bast dataset \n",
        "#Majority:Minority = 18000:3008\n",
        "\n",
        "rus_5 = RandomUnderSampler(random_state=17, sampling_strategy={0: 18000, 1: 3008})\n",
        "X_res_5, y_res_5 = rus_5.fit_resample(X_train, y_train)\n",
        "\n",
        "estimator = DecisionTreeClassifier(random_state=17)\n",
        "selector = GeneticSelectionCV(estimator, cv=5, verbose=0,\n",
        "    scoring='balanced_accuracy', max_features=50,\n",
        "    n_population=50, crossover_proba=0.5,\n",
        "    mutation_proba=0.2, n_generations=50,\n",
        "    crossover_independent_proba=0.5,\n",
        "    mutation_independent_proba=0.04,\n",
        "    tournament_size=3, n_gen_no_change=10,\n",
        "    caching=True, n_jobs=-1)\n",
        "\n",
        "model = model.fit(X_train, y_train)\n",
        "print(X_train.columns[model.support_==True])"
      ],
      "metadata": {
        "id": "6tHmPHNRDqm4"
      },
      "execution_count": null,
      "outputs": []
    },
    {
      "cell_type": "markdown",
      "source": [
        "**Feture selection experience**"
      ],
      "metadata": {
        "id": "Vwj1TsZqDJIs"
      }
    },
    {
      "cell_type": "code",
      "source": [
        "#using best undersampling model for GA experience\n",
        "#undersampling 18000:3008\n",
        "\n",
        "X_train_r = X_res_5.copy()\n",
        "y_train_r = y_res_5.copy()"
      ],
      "metadata": {
        "id": "y6iYNQuQ303O"
      },
      "execution_count": null,
      "outputs": []
    },
    {
      "cell_type": "markdown",
      "source": [
        "Feture selection with GA with RandomForest Clssifiers as estimator"
      ],
      "metadata": {
        "id": "ZlwnZH4MDK3d"
      }
    },
    {
      "cell_type": "code",
      "source": [
        "#GA estimator experience 1\n",
        "#GA Top25 features with RandomForest\n",
        "\n",
        "estimator = RandomForestClassifier(random_state=17)\n",
        "selector = GeneticSelectionCV(estimator, cv=3, verbose=0, \n",
        "    scoring='balanced_accuracy', max_features=25,›\n",
        "    n_population=50, crossover_proba=0.5,\n",
        "    mutation_proba=0.2, n_generations=20,\n",
        "    crossover_independent_proba=0.5,\n",
        "    mutation_independent_proba=0.04,\n",
        "    tournament_size=3, n_gen_no_change=10,\n",
        "    caching=True, n_jobs=-1)\n",
        "\n",
        "selector = selector.fit(X_train_r, y_train_r)\n",
        "print(\"Top 25 Features in GA/RF =======================\")\n",
        "selected_features_1 = pd.DataFrame(X_train_r.columns[selector.support_ == True])\n",
        "\n",
        "print(selected_features_1)\n",
        "print('Number of Top Features : %s' % len(X_train_r.columns[selector.support_ == True]))\n",
        "print(\"\\n\")\n",
        "\n",
        "export_csv= selected_features_1.to_excel(r'/gdrive/MyDrive/CIS508/Assignment_5/Problem_2_GA/list/GA_RF_top25_r.xlsx')"
      ],
      "metadata": {
        "colab": {
          "base_uri": "https://localhost:8080/"
        },
        "id": "Nm6Wnz_Vioi6",
        "outputId": "485466f0-148f-4ccd-b983-6a1f7661334e"
      },
      "execution_count": null,
      "outputs": [
        {
          "output_type": "stream",
          "name": "stdout",
          "text": [
            "Top 25 Features in GA/RF =======================\n",
            "                               0\n",
            "0                          var15\n",
            "1              ind_var13_corto_0\n",
            "2                    ind_var29_0\n",
            "3                      ind_var33\n",
            "4                      ind_var41\n",
            "5                    num_var12_0\n",
            "6                    num_var25_0\n",
            "7                    num_var41_0\n",
            "8                    num_var42_0\n",
            "9                    saldo_var37\n",
            "10                   saldo_var42\n",
            "11     delta_num_reemb_var13_1y3\n",
            "12     delta_num_reemb_var17_1y3\n",
            "13  delta_num_trasp_var33_in_1y3\n",
            "14            imp_var7_emit_ult1\n",
            "15         imp_reemb_var17_hace3\n",
            "16          imp_reemb_var17_ult1\n",
            "17      imp_trasp_var17_out_ult1\n",
            "18         imp_venta_var44_hace3\n",
            "19               num_var22_hace3\n",
            "20                num_var22_ult3\n",
            "21           num_meses_var5_ult3\n",
            "22          num_meses_var29_ult3\n",
            "23         num_reemb_var33_hace3\n",
            "24       saldo_medio_var12_hace3\n",
            "Number of Top Features : 25\n",
            "\n",
            "\n"
          ]
        }
      ]
    },
    {
      "cell_type": "code",
      "source": [
        "#GA Top50 features with RandomForest\n",
        "\n",
        "estimator = RandomForestClassifier(random_state=17)\n",
        "selector = GeneticSelectionCV(estimator, cv=3, verbose=0, \n",
        "    scoring='balanced_accuracy', max_features=50,\n",
        "    n_population=50, crossover_proba=0.5,\n",
        "    mutation_proba=0.2, n_generations=20,\n",
        "    crossover_independent_proba=0.5,\n",
        "    mutation_independent_proba=0.04,\n",
        "    tournament_size=3, n_gen_no_change=10,\n",
        "    caching=True, n_jobs=-1)\n",
        "\n",
        "selector = selector.fit(X_train_r, y_train_r)\n",
        "print(\"Top 50 Features in GA/RF =======================\")\n",
        "selected_features_2 = pd.DataFrame(X_train_r.columns[selector.support_ == True])\n",
        "\n",
        "print(selected_features_2)\n",
        "print('Number of Top Features : %s' % len(X_train_r.columns[selector.support_ == True]))\n",
        "print(\"\\n\")\n",
        "\n",
        "export_csv= selected_features_2.to_excel(r'/gdrive/MyDrive/CIS508/Assignment_5/Problem_2_GA/list/GA_RF_top50_r.xlsx')"
      ],
      "metadata": {
        "colab": {
          "base_uri": "https://localhost:8080/"
        },
        "id": "WJzlQSPOjcft",
        "outputId": "7efc5a5e-7385-4062-9624-32daa3be85c9"
      },
      "execution_count": null,
      "outputs": [
        {
          "output_type": "stream",
          "name": "stdout",
          "text": [
            "Top 50 Features in GA/RF =======================\n",
            "                                0\n",
            "0                           var15\n",
            "1         imp_op_var39_comer_ult1\n",
            "2         imp_op_var40_comer_ult1\n",
            "3         imp_op_var41_efect_ult1\n",
            "4                      ind_var8_0\n",
            "5               ind_var13_largo_0\n",
            "6                       ind_var14\n",
            "7                     ind_var25_0\n",
            "8                       ind_var29\n",
            "9                   ind_var32_cte\n",
            "10                      num_var12\n",
            "11                    num_var25_0\n",
            "12              num_op_var41_ult3\n",
            "13                      num_var35\n",
            "14                    num_var37_0\n",
            "15                      num_var39\n",
            "16                    num_var42_0\n",
            "17                     saldo_var8\n",
            "18              saldo_var13_largo\n",
            "19                    saldo_var14\n",
            "20                    saldo_var30\n",
            "21                    saldo_var40\n",
            "22                    saldo_var46\n",
            "23                          var36\n",
            "24      delta_imp_amort_var18_1y3\n",
            "25  delta_imp_trasp_var33_out_1y3\n",
            "26      delta_num_aport_var17_1y3\n",
            "27  delta_num_trasp_var17_out_1y3\n",
            "28   delta_num_trasp_var33_in_1y3\n",
            "29  delta_num_trasp_var33_out_1y3\n",
            "30           imp_aport_var17_ult1\n",
            "31             imp_var7_emit_ult1\n",
            "32           imp_trans_var37_ult1\n",
            "33        imp_trasp_var33_in_ult1\n",
            "34             ind_var7_emit_ult1\n",
            "35           num_aport_var13_ult1\n",
            "36                 num_var22_ult3\n",
            "37            num_meses_var5_ult3\n",
            "38            num_meses_var8_ult3\n",
            "39        num_op_var40_efect_ult1\n",
            "40        num_op_var41_efect_ult3\n",
            "41          num_reemb_var33_hace3\n",
            "42        num_trasp_var33_in_ult1\n",
            "43        saldo_medio_var12_hace2\n",
            "44  saldo_medio_var13_medio_hace3\n",
            "45         saldo_medio_var29_ult1\n",
            "46         saldo_medio_var33_ult1\n",
            "47        saldo_medio_var44_hace3\n",
            "48                          var38\n",
            "Number of Top Features : 49\n",
            "\n",
            "\n"
          ]
        }
      ]
    },
    {
      "cell_type": "markdown",
      "source": [
        "Feture selection with GA with gradient boost as estimator"
      ],
      "metadata": {
        "id": "9F6m7MAdj68c"
      }
    },
    {
      "cell_type": "code",
      "source": [
        "#GA Top25 features with Gradient boost\n",
        "\n",
        "estimator = GradientBoostingClassifier(random_state=17, n_estimators=50, learning_rate=0.05)\n",
        "selector = GeneticSelectionCV(estimator, cv=3, verbose=0, \n",
        "    scoring='balanced_accuracy', max_features=25,\n",
        "    n_population=50, crossover_proba=0.5,\n",
        "    mutation_proba=0.2, n_generations=20,\n",
        "    crossover_independent_proba=0.5,\n",
        "    mutation_independent_proba=0.04,\n",
        "    tournament_size=3, n_gen_no_change=10,\n",
        "    caching=True, n_jobs=-1)\n",
        "\n",
        "selector = selector.fit(X_train_r, y_train_r)\n",
        "print(\"Top 50 Features in GA/GB =======================\")\n",
        "selected_features_3 = pd.DataFrame(X_train_r.columns[selector.support_ == True])\n",
        "\n",
        "print(selected_features_3)\n",
        "print('Number of Top Features : %s' % len(X_train_r.columns[selector.support_ == True]))\n",
        "print(\"\\n\")\n",
        "\n",
        "export_csv= selected_features_3.to_excel(r'/gdrive/MyDrive/CIS508/Assignment_5/Problem_2_GA/list/GA_GB_top25_r.xlsx')"
      ],
      "metadata": {
        "colab": {
          "base_uri": "https://localhost:8080/"
        },
        "id": "7X1S4jcDj0j2",
        "outputId": "76bef803-95fc-43f2-b1e8-1d33f4056185"
      },
      "execution_count": null,
      "outputs": [
        {
          "output_type": "stream",
          "name": "stdout",
          "text": [
            "Top 50 Features in GA/RF =======================\n",
            "                          0\n",
            "0   imp_op_var39_comer_ult1\n",
            "1   imp_op_var39_efect_ult3\n",
            "2                  ind_var5\n",
            "3                num_var8_0\n",
            "4           num_var13_corto\n",
            "5               saldo_var27\n",
            "6               saldo_var30\n",
            "7               saldo_var46\n",
            "8      imp_amort_var18_ult1\n",
            "9     imp_aport_var17_hace3\n",
            "10    imp_reemb_var13_hace3\n",
            "11      imp_var43_emit_ult1\n",
            "12          num_var22_hace3\n",
            "13           num_var22_ult3\n",
            "14  num_op_var41_efect_ult3\n",
            "15                    var38\n",
            "Number of Top Features : 16\n",
            "\n",
            "\n"
          ]
        }
      ]
    },
    {
      "cell_type": "code",
      "source": [
        "#GA Top50 features with Gradient boost\n",
        "\n",
        "estimator = GradientBoostingClassifier(random_state=17, n_estimators=50, learning_rate=0.05)\n",
        "selector = GeneticSelectionCV(estimator, cv=3, verbose=0, \n",
        "    scoring='balanced_accuracy', max_features=50,\n",
        "    n_population=50, crossover_proba=0.5,\n",
        "    mutation_proba=0.2, n_generations=20,\n",
        "    crossover_independent_proba=0.5,\n",
        "    mutation_independent_proba=0.04,\n",
        "    tournament_size=3, n_gen_no_change=10,\n",
        "    caching=True, n_jobs=-1)\n",
        "\n",
        "selector = selector.fit(X_train_r, y_train_r)\n",
        "print(\"Top 50 Features in GA/GB =======================\")\n",
        "selected_features_4 = pd.DataFrame(X_train_r.columns[selector.support_ == True])\n",
        "\n",
        "print(selected_features_4)\n",
        "print('Number of Top Features : %s' % len(X_train_r.columns[selector.support_ == True]))\n",
        "print(\"\\n\")\n",
        "\n",
        "export_csv= selected_features_4.to_excel(r'/gdrive/MyDrive/CIS508/Assignment_5/Problem_2_GA/list/GA_GB_top50_r.xlsx')"
      ],
      "metadata": {
        "colab": {
          "base_uri": "https://localhost:8080/"
        },
        "id": "3oG0aKZgj1c8",
        "outputId": "104cdfaf-e27a-4255-f26f-66f7659afd4a"
      },
      "execution_count": null,
      "outputs": [
        {
          "output_type": "stream",
          "name": "stdout",
          "text": [
            "Top 50 Features in GA/RF =======================\n",
            "                                0\n",
            "0                           var15\n",
            "1               imp_op_var40_ult1\n",
            "2         imp_op_var41_efect_ult1\n",
            "3               ind_var13_corto_0\n",
            "4                 ind_var13_largo\n",
            "5                       ind_var27\n",
            "6                     ind_var30_0\n",
            "7                     ind_var33_0\n",
            "8                   ind_var37_cte\n",
            "9                      num_var8_0\n",
            "10                       num_var8\n",
            "11              num_var13_largo_0\n",
            "12                num_var13_medio\n",
            "13             num_op_var41_hace3\n",
            "14                      num_var30\n",
            "15                      num_var31\n",
            "16                    num_var40_0\n",
            "17                      num_var42\n",
            "18                    saldo_var30\n",
            "19     delta_imp_compra_var44_1y3\n",
            "20  delta_num_trasp_var17_out_1y3\n",
            "21          imp_aport_var13_hace3\n",
            "22        imp_trasp_var17_in_ult1\n",
            "23           imp_venta_var44_ult1\n",
            "24           num_aport_var13_ult1\n",
            "25         num_compra_var44_hace3\n",
            "26                num_var22_hace2\n",
            "27           num_meses_var17_ult3\n",
            "28           num_meses_var29_ult3\n",
            "29           num_meses_var33_ult3\n",
            "30        num_op_var39_comer_ult1\n",
            "31        num_op_var41_efect_ult1\n",
            "32        num_op_var41_efect_ult3\n",
            "33          num_reemb_var13_hace3\n",
            "34          num_venta_var44_hace3\n",
            "35         saldo_medio_var5_hace3\n",
            "36  saldo_medio_var13_largo_hace2\n",
            "37        saldo_medio_var17_hace3\n",
            "38        saldo_medio_var33_hace2\n",
            "39                          var38\n",
            "Number of Top Features : 40\n",
            "\n",
            "\n"
          ]
        }
      ]
    },
    {
      "cell_type": "markdown",
      "source": [
        "Feature Selcetion with K-BEST"
      ],
      "metadata": {
        "id": "oUNbeikdmwOH"
      }
    },
    {
      "cell_type": "code",
      "source": [
        "#K-BEST FEATURE Selection Top 25\n",
        "\n",
        "fs = SelectKBest(f_classif, k=25)\n",
        "fs.fit(X_train_r, y_train_r)\n",
        "feature_index = fs.get_support(True)\n",
        "\n",
        "print(\"Top 25 Features in Kbest =======================\")\n",
        "selected_features_5= pd.DataFrame(X_train_r.columns[feature_index])\n",
        "print(selected_features_5)\n",
        "print(\"\\n\")\n",
        "export_csv= selected_features_5.to_excel(r'/gdrive/MyDrive/CIS508/Assignment_5/Problem_2_GA/list/Kbest_top25_r.xlsx')\n",
        "\n",
        "#K-BEST FEATURE Selection Top 50\n",
        "\n",
        "fs_2 = SelectKBest(f_classif, k=50)\n",
        "fs_2.fit(X_train_r, y_train_r)\n",
        "feature_index_2 = fs_2.get_support(True)\n",
        "selected_features_6 = pd.DataFrame(X_train_r.columns[feature_index_2])\n",
        "print(\"Top 50 Features in Kbest =======================\")\n",
        "print(selected_features_6)\n",
        "print(\"\\n\")\n",
        "export_csv= selected_features_6.to_excel(r'/gdrive/MyDrive/CIS508/Assignment_5/Problem_2_GA/list/Kbest_top50_r.xlsx')"
      ],
      "metadata": {
        "colab": {
          "base_uri": "https://localhost:8080/"
        },
        "id": "J96K54rsmzaJ",
        "outputId": "c5a9e376-e2b6-4ca5-aad0-17f16ec4164a"
      },
      "execution_count": null,
      "outputs": [
        {
          "output_type": "stream",
          "name": "stdout",
          "text": [
            "Top 25 Features in Kbest =======================\n",
            "                             0\n",
            "0                        var15\n",
            "1      imp_op_var39_efect_ult1\n",
            "2                     ind_var5\n",
            "3                   ind_var8_0\n",
            "4                  ind_var12_0\n",
            "5                  ind_var13_0\n",
            "6            ind_var13_corto_0\n",
            "7              ind_var13_corto\n",
            "8                    ind_var13\n",
            "9                    ind_var30\n",
            "10                 ind_var39_0\n",
            "11                    num_var4\n",
            "12                    num_var5\n",
            "13                  num_var8_0\n",
            "14                 num_var13_0\n",
            "15           num_var13_corto_0\n",
            "16             num_var13_corto\n",
            "17                   num_var13\n",
            "18                   num_var30\n",
            "19                   num_var35\n",
            "20                   num_var42\n",
            "21                 saldo_var30\n",
            "22                       var36\n",
            "23         num_meses_var5_ult3\n",
            "24  num_meses_var13_corto_ult3\n",
            "\n",
            "\n",
            "Top 50 Features in Kbest =======================\n",
            "                               0\n",
            "0                          var15\n",
            "1        imp_op_var41_efect_ult1\n",
            "2        imp_op_var41_efect_ult3\n",
            "3              imp_op_var41_ult1\n",
            "4        imp_op_var39_efect_ult1\n",
            "5        imp_op_var39_efect_ult3\n",
            "6              imp_op_var39_ult1\n",
            "7                     ind_var5_0\n",
            "8                       ind_var5\n",
            "9                     ind_var8_0\n",
            "10                      ind_var8\n",
            "11                   ind_var12_0\n",
            "12                     ind_var12\n",
            "13                   ind_var13_0\n",
            "14             ind_var13_corto_0\n",
            "15               ind_var13_corto\n",
            "16                     ind_var13\n",
            "17                   ind_var24_0\n",
            "18                     ind_var24\n",
            "19                     ind_var30\n",
            "20                   ind_var39_0\n",
            "21                   ind_var41_0\n",
            "22                      num_var4\n",
            "23                    num_var5_0\n",
            "24                      num_var5\n",
            "25                    num_var8_0\n",
            "26                      num_var8\n",
            "27                     num_var12\n",
            "28                   num_var13_0\n",
            "29             num_var13_corto_0\n",
            "30               num_var13_corto\n",
            "31                     num_var13\n",
            "32                   num_var24_0\n",
            "33                     num_var24\n",
            "34                   num_var30_0\n",
            "35                     num_var30\n",
            "36                     num_var35\n",
            "37                   num_var39_0\n",
            "38                   num_var41_0\n",
            "39                     num_var42\n",
            "40             saldo_var13_corto\n",
            "41                   saldo_var13\n",
            "42                   saldo_var30\n",
            "43                         var36\n",
            "44         num_aport_var13_hace3\n",
            "45           num_meses_var5_ult3\n",
            "46          num_meses_var12_ult3\n",
            "47    num_meses_var13_corto_ult3\n",
            "48  saldo_medio_var13_corto_ult1\n",
            "49  saldo_medio_var13_corto_ult3\n",
            "\n",
            "\n"
          ]
        }
      ]
    },
    {
      "cell_type": "markdown",
      "source": [
        "Hyperparameter Tunning "
      ],
      "metadata": {
        "id": "UpiLAyyoq43u"
      }
    },
    {
      "cell_type": "code",
      "source": [
        "#Using Top features from previous experience\n",
        "\n",
        "RF_top25 = pd.read_excel(r'/gdrive/MyDrive/CIS508/Assignment_5/Problem_2_GA/list/GA_RF_top25_r.xlsx')\n",
        "RF_top50 = pd.read_excel(r'/gdrive/MyDrive/CIS508/Assignment_5/Problem_2_GA/list/GA_RF_top50_r.xlsx')\n",
        "GB_top25 = pd.read_excel(r'/gdrive/MyDrive/CIS508/Assignment_5/Problem_2_GA/list/GA_GB_top25_r.xlsx')\n",
        "GB_top50 = pd.read_excel(r'/gdrive/MyDrive/CIS508/Assignment_5/Problem_2_GA/list/Kbest_top50_r.xlsx')\n",
        "\n"
      ],
      "metadata": {
        "id": "nXecDLjir0nS"
      },
      "execution_count": null,
      "outputs": []
    },
    {
      "cell_type": "code",
      "source": [
        "#Extracting feature name as list\n",
        "\n",
        "RF_top25 = RF_top25.iloc[:,[1]]\n",
        "RF_top25.columns=['features']\n",
        "RF_top25 = list(RF_top25['features'])\n",
        "\n",
        "RF_top50 = RF_top50.iloc[:,[1]]\n",
        "RF_top50.columns=['features']\n",
        "RF_top50 = list(RF_top50['features'])\n",
        "\n",
        "GB_top25 = GB_top25.iloc[:,[1]]\n",
        "GB_top25.columns=['features']\n",
        "GB_top25 = list(GB_top25['features'])\n",
        "\n",
        "GB_top50 = GB_top50.iloc[:,[1]]\n",
        "GB_top50.columns=['features']\n",
        "GB_top50 = list(GB_top50['features'])"
      ],
      "metadata": {
        "id": "b1zOwEupgqCf"
      },
      "execution_count": null,
      "outputs": []
    },
    {
      "cell_type": "code",
      "source": [
        "#Undersampling Data set with Selected features\n",
        "X_train_rf25 = X_train_r[RF_top25]\n",
        "X_train_rf50 = X_train_r[RF_top50]\n",
        "X_train_gb25 = X_train_r[GB_top25]\n",
        "X_train_gb50 = X_train_r[GB_top50]"
      ],
      "metadata": {
        "id": "cP8JobSw0YVi"
      },
      "execution_count": null,
      "outputs": []
    },
    {
      "cell_type": "markdown",
      "source": [
        "(1) Hyperparameter Tunning for Random Forest (Top 25, Top 50) "
      ],
      "metadata": {
        "id": "1Vkq4suQ1xKp"
      }
    },
    {
      "cell_type": "code",
      "source": [
        "#Hyper parameter tuning (Random Forest Classifier, top 25 features)\n",
        "clf = RandomForestClassifier()\n",
        "param_grid = {              \n",
        "              'max_depth': Integer(1, 15),\n",
        "              'max_leaf_nodes': Integer(2, 30),\n",
        "              'n_estimators': Integer(100, 200)\n",
        "              }\n",
        "\n",
        "model = GASearchCV(estimator=clf,\n",
        "                               cv=3,\n",
        "                               scoring='balanced_accuracy',\n",
        "                               population_size=10,\n",
        "                               generations=15,\n",
        "                               param_grid=param_grid,\n",
        "                               n_jobs=-1,\n",
        "                               verbose=True,\n",
        "                               keep_top_k=4)\n",
        "\n",
        "model = model.fit(X_train_rf25, y_train_r)\n",
        "\n",
        "print(model.best_params_)"
      ],
      "metadata": {
        "colab": {
          "base_uri": "https://localhost:8080/"
        },
        "id": "ZcANKc_v1vDS",
        "outputId": "1d5d4bc9-de93-43b5-93dc-387bd68b201c"
      },
      "execution_count": null,
      "outputs": [
        {
          "output_type": "stream",
          "name": "stdout",
          "text": [
            "gen\tnevals\tfitness \tfitness_std\tfitness_max\tfitness_min\n",
            "0  \t10    \t0.500017\t4.98504e-05\t0.500166   \t0.5        \n",
            "1  \t20    \t0.500033\t6.64673e-05\t0.500166   \t0.5        \n",
            "2  \t16    \t0.500114\t9.05318e-05\t0.500305   \t0.5        \n",
            "3  \t20    \t0.500086\t7.16507e-05\t0.500166   \t0.5        \n",
            "4  \t19    \t0.500141\t7.05728e-05\t0.500305   \t0.5        \n",
            "5  \t20    \t0.500238\t8.51038e-05\t0.500332   \t0.500111   \n",
            "6  \t18    \t0.500283\t0.000112735\t0.500471   \t0.500166   \n",
            "7  \t18    \t0.500258\t0.000165311\t0.500471   \t0.499972   \n",
            "8  \t20    \t0.50031 \t0.000158054\t0.500471   \t0.5        \n",
            "9  \t18    \t0.500388\t0.000133969\t0.500471   \t0.500139   \n",
            "10 \t16    \t0.500471\t0          \t0.500471   \t0.500471   \n",
            "11 \t18    \t0.500363\t0.000170511\t0.500471   \t0.5        \n",
            "12 \t17    \t0.500307\t0.000206355\t0.500471   \t0.499972   \n",
            "13 \t15    \t0.500346\t0.000195181\t0.500471   \t0.5        \n",
            "14 \t20    \t0.50033 \t0.00017842 \t0.500471   \t0.5        \n",
            "15 \t17    \t0.500363\t0.000170511\t0.500471   \t0.5        \n",
            "{'max_depth': 9, 'max_leaf_nodes': 26, 'n_estimators': 180}\n"
          ]
        }
      ]
    },
    {
      "cell_type": "code",
      "source": [
        "\n",
        "#Hyper parameter tuning (Random Forest Classifier, top 50 features)\n",
        "clf = RandomForestClassifier()\n",
        "param_grid = {              \n",
        "              'max_depth': Integer(1, 15),\n",
        "              'max_leaf_nodes': Integer(2, 30),\n",
        "              'n_estimators': Integer(100, 200)\n",
        "              }\n",
        "\n",
        "model = GASearchCV(estimator=clf,\n",
        "                               cv=3,\n",
        "                               scoring='balanced_accuracy',\n",
        "                               population_size=10,\n",
        "                               generations=15,\n",
        "                               param_grid=param_grid,\n",
        "                               n_jobs=-1,\n",
        "                               verbose=True,\n",
        "                               keep_top_k=4)\n",
        "\n",
        "model = model.fit(X_train_rf50, y_train_r)\n",
        "\n",
        "print(model.best_params_)"
      ],
      "metadata": {
        "colab": {
          "base_uri": "https://localhost:8080/"
        },
        "id": "QYNrEGdR1v2k",
        "outputId": "c09d99d3-49ae-4508-9f16-dbe0c00cc396"
      },
      "execution_count": null,
      "outputs": [
        {
          "output_type": "stream",
          "name": "stdout",
          "text": [
            "gen\tnevals\tfitness \tfitness_std\tfitness_max\tfitness_min\n",
            "0  \t10    \t0.500601\t0.000612859\t0.5018     \t0.5        \n",
            "1  \t16    \t0.500978\t0.000476992\t0.50144    \t0.5        \n",
            "2  \t20    \t0.501263\t0.00023472 \t0.501579   \t0.500969   \n",
            "3  \t19    \t0.501407\t0.000102708\t0.501579   \t0.501302   \n",
            "4  \t17    \t0.50146 \t0.000128136\t0.501772   \t0.501302   \n",
            "5  \t19    \t0.501318\t0.00021279 \t0.50144    \t0.500776   \n",
            "6  \t20    \t0.501437\t0.000102554\t0.501579   \t0.501246   \n",
            "7  \t16    \t0.501462\t0.00010714 \t0.501579   \t0.501274   \n",
            "8  \t18    \t0.501479\t8.77617e-05\t0.501579   \t0.501274   \n",
            "9  \t18    \t0.501515\t0.000154314\t0.501773   \t0.501135   \n",
            "10 \t19    \t0.501546\t0.000144471\t0.501773   \t0.501274   \n",
            "11 \t17    \t0.50154 \t0.00015492 \t0.501773   \t0.501218   \n",
            "12 \t18    \t0.501534\t0.00015875 \t0.501773   \t0.501246   \n",
            "13 \t18    \t0.501576\t0.000132064\t0.501773   \t0.501413   \n",
            "14 \t18    \t0.50157 \t0.00014831 \t0.501773   \t0.501302   \n",
            "15 \t19    \t0.501667\t0.000122643\t0.501773   \t0.50144    \n",
            "{'max_depth': 9, 'max_leaf_nodes': 30, 'n_estimators': 196}\n"
          ]
        }
      ]
    },
    {
      "cell_type": "markdown",
      "source": [
        "(2) Hyperparameter Tunning for Gradient Boost (Top 25, Top 50) "
      ],
      "metadata": {
        "id": "HrijHf0Y14dX"
      }
    },
    {
      "cell_type": "code",
      "source": [
        "\n",
        "#Hyper parameter tuning (Gradient Boosting Classifier, top 25 features)\n",
        "clf = GradientBoostingClassifier()\n",
        "param_grid = {              \n",
        "              'max_depth': Integer(1, 10),\n",
        "              'learning_rate': Continuous(0.001, 0.3, distribution='log-uniform'),\n",
        "              'n_estimators': Integer(10, 100)\n",
        "              }\n",
        "\n",
        "model = GASearchCV(estimator=clf,\n",
        "                               cv=3,\n",
        "                               scoring='balanced_accuracy',\n",
        "                               population_size=10,\n",
        "                               generations=15,\n",
        "                               param_grid=param_grid,\n",
        "                               n_jobs=-1,\n",
        "                               verbose=True,\n",
        "                               keep_top_k=4)\n",
        "\n",
        "model = model.fit(X_train_gb25, y_train_r)\n",
        "\n",
        "print(model.best_params_)"
      ],
      "metadata": {
        "colab": {
          "base_uri": "https://localhost:8080/"
        },
        "id": "f2XG2t4D1qI0",
        "outputId": "d45c82c7-8fb7-4b39-9adb-05fffe0baf10"
      },
      "execution_count": null,
      "outputs": [
        {
          "output_type": "stream",
          "name": "stdout",
          "text": [
            "gen\tnevals\tfitness \tfitness_std\tfitness_max\tfitness_min\n",
            "0  \t10    \t0.510172\t0.0125648  \t0.529902   \t0.5        \n",
            "1  \t18    \t0.52277 \t0.0127815  \t0.537458   \t0.50108    \n",
            "2  \t20    \t0.533529\t0.00403554 \t0.537647   \t0.526935   \n",
            "3  \t19    \t0.538699\t0.00369701 \t0.544654   \t0.530754   \n",
            "4  \t19    \t0.544521\t0.0050051  \t0.553914   \t0.53998    \n",
            "5  \t18    \t0.549875\t0.00423676 \t0.553914   \t0.541475   \n",
            "6  \t20    \t0.551527\t0.00309683 \t0.553914   \t0.546841   \n",
            "7  \t17    \t0.552224\t0.00243148 \t0.555549   \t0.546923   \n",
            "8  \t18    \t0.553683\t0.00144236 \t0.555549   \t0.552004   \n",
            "9  \t17    \t0.554697\t0.00122322 \t0.555718   \t0.551615   \n",
            "10 \t19    \t0.554724\t0.00195212 \t0.556024   \t0.550179   \n",
            "11 \t18    \t0.554629\t0.00168622 \t0.555824   \t0.551111   \n",
            "12 \t17    \t0.555259\t0.00101057 \t0.555824   \t0.552419   \n",
            "13 \t17    \t0.55533 \t0.000686145\t0.555824   \t0.553859   \n",
            "14 \t17    \t0.555244\t0.00122912 \t0.555824   \t0.551725   \n",
            "15 \t18    \t0.555422\t0.000671586\t0.555824   \t0.554082   \n",
            "{'max_depth': 9, 'learning_rate': 0.2717804619672004, 'n_estimators': 95}\n"
          ]
        }
      ]
    },
    {
      "cell_type": "code",
      "source": [
        "#Hyper parameter tuning (Gradient Boosting Classifier, top 50 features)\n",
        "clf = GradientBoostingClassifier()\n",
        "param_grid = {              \n",
        "              'max_depth': Integer(1, 10),\n",
        "              'learning_rate': Continuous(0.001, 0.3, distribution='log-uniform'),\n",
        "              'n_estimators': Integer(10, 100)\n",
        "              }\n",
        "\n",
        "model = GASearchCV(estimator=clf,\n",
        "                               cv=3,\n",
        "                               scoring='balanced_accuracy',\n",
        "                               population_size=10,\n",
        "                               generations=15,\n",
        "                               param_grid=param_grid,\n",
        "                               n_jobs=-1,\n",
        "                               verbose=True,\n",
        "                               keep_top_k=4)\n",
        "\n",
        "model = model.fit(X_train_gb50, y_train_r)\n",
        "\n",
        "print(model.best_params_)"
      ],
      "metadata": {
        "colab": {
          "base_uri": "https://localhost:8080/"
        },
        "id": "8C3bKW7r1dSs",
        "outputId": "dcf60390-76d7-4a74-d080-ceb5f499e42b"
      },
      "execution_count": null,
      "outputs": [
        {
          "output_type": "stream",
          "name": "stdout",
          "text": [
            "gen\tnevals\tfitness \tfitness_std\tfitness_max\tfitness_min\n",
            "0  \t10    \t0.526127\t0.0345433  \t0.59177    \t0.499944   \n",
            "1  \t18    \t0.554675\t0.032844   \t0.584599   \t0.5        \n",
            "2  \t18    \t0.575322\t0.0159552  \t0.589778   \t0.529186   \n",
            "3  \t19    \t0.583349\t0.0053195  \t0.592821   \t0.57561    \n",
            "4  \t20    \t0.585923\t0.00534033 \t0.592821   \t0.575528   \n",
            "5  \t15    \t0.589803\t0.0019602  \t0.592821   \t0.584578   \n",
            "6  \t18    \t0.591348\t0.00127846 \t0.592821   \t0.589387   \n",
            "7  \t19    \t0.5915  \t0.00116546 \t0.592821   \t0.589582   \n",
            "8  \t18    \t0.591907\t0.00079571 \t0.592821   \t0.590413   \n",
            "9  \t18    \t0.592059\t0.000751199\t0.592821   \t0.590938   \n",
            "10 \t19    \t0.592672\t0.0011615  \t0.594594   \t0.591213   \n",
            "11 \t19    \t0.592871\t0.00123569 \t0.596008   \t0.591269   \n",
            "12 \t16    \t0.592199\t0.0022013  \t0.596008   \t0.588143   \n",
            "13 \t19    \t0.593185\t0.000294481\t0.593376   \t0.592655   \n",
            "14 \t16    \t0.593312\t0.000191018\t0.593376   \t0.592739   \n",
            "15 \t20    \t0.592994\t0.000738265\t0.593376   \t0.590937   \n",
            "{'max_depth': 8, 'learning_rate': 0.29641261684172, 'n_estimators': 98}\n"
          ]
        }
      ]
    },
    {
      "cell_type": "markdown",
      "source": [
        "Build final classification models with best parameters"
      ],
      "metadata": {
        "id": "rcuS9_kl5K5d"
      }
    },
    {
      "cell_type": "markdown",
      "source": [
        "(1) Random Forest model (with Top 25, Top 50 features)"
      ],
      "metadata": {
        "id": "t0ZnOB425X9M"
      }
    },
    {
      "cell_type": "code",
      "source": [
        "#full train data with Selected features\n",
        "X_rf25 = X_train[RF_top25]\n",
        "X_rf50 = X_train[RF_top50]\n",
        "X_gb25 = X_train[GB_top25]\n",
        "X_gb50 = X_train[GB_top50]\n",
        "\n",
        "#X_test with Selected features\n",
        "X_test_rf25 = X_test[RF_top25]\n",
        "X_test_rf50 = X_test[RF_top50]\n",
        "X_test_gb25 = X_test[GB_top25]\n",
        "X_test_gb50 = X_test[GB_top50]"
      ],
      "metadata": {
        "id": "ST-XthiV6mSZ"
      },
      "execution_count": null,
      "outputs": []
    },
    {
      "cell_type": "code",
      "source": [
        "#Final Random Forest model with best hyperparameters\n",
        "#Top 25 Features\n",
        "\n",
        "clf = RandomForestClassifier(max_depth=9, max_leaf_nodes=26, n_estimators=180, class_weight=\"balanced\").fit(X_rf25, y_train)   \n",
        "cv_score = cross_val_score(clf, X_rf25, y_train, cv=20, scoring=\"balanced_accuracy\")\n",
        "print(\"=== All Accuracy Scores ===\")\n",
        "print(cv_score)\n",
        "print('\\n')\n",
        "print(\"=== Mean Accuracy Score ===\")\n",
        "print(\"Mean Accuracy Score: \",cv_score.mean())\n",
        "print('\\n')\n",
        "\n",
        "#Learning\n",
        "clf.fit(X_rf25, y_train)\n",
        "pred = clf.predict(X_test_rf25)\n",
        "\n",
        "\n",
        "#Making csv file\n",
        "output = pd.DataFrame({\n",
        "    'ID': test_data['ID'],\n",
        "    'TARGET': pred\n",
        "})\n",
        "output.to_csv((r'/gdrive/MyDrive/CIS508/Assignment_5/Problem_2_GA/list/rf_top25_pred.xlsx'), index=False)\n"
      ],
      "metadata": {
        "colab": {
          "base_uri": "https://localhost:8080/"
        },
        "id": "DYYO_K3i5W_T",
        "outputId": "5b2bf894-d345-41c3-ffb8-39e085bf59b1"
      },
      "execution_count": null,
      "outputs": [
        {
          "output_type": "stream",
          "name": "stdout",
          "text": [
            "=== All Accuracy Scores ===\n",
            "[0.72920296 0.74468091 0.72577924 0.73906875 0.71559299 0.71093947\n",
            " 0.76363188 0.71057245 0.76614352 0.71924952 0.74098329 0.75806081\n",
            " 0.76001089 0.75453143 0.77725211 0.78344008 0.75864102 0.76156491\n",
            " 0.73701624 0.73532523]\n",
            "\n",
            "\n",
            "=== Mean Accuracy Score ===\n",
            "Mean Accuracy Score:  0.7445843844894615\n",
            "\n",
            "\n"
          ]
        }
      ]
    },
    {
      "cell_type": "code",
      "source": [
        "#Final Random Forest model with best hyperparameters\n",
        "#Top 50 Features\n",
        "\n",
        "clf = RandomForestClassifier(max_depth=9, max_leaf_nodes=30, n_estimators=196, class_weight=\"balanced\").fit(X_rf50, y_train)   \n",
        "cv_score = cross_val_score(clf, X_rf50, y_train, cv=20, scoring=\"balanced_accuracy\")\n",
        "print(\"=== All Accuracy Scores ===\")\n",
        "print(cv_score)\n",
        "print('\\n')\n",
        "print(\"=== Mean Accuracy Score ===\")\n",
        "print(\"Mean Accuracy Score: \",cv_score.mean())\n",
        "print('\\n')\n",
        "\n",
        "#Learning\n",
        "clf.fit(X_rf50, y_train)\n",
        "pred = clf.predict(X_test_rf50)\n",
        "\n",
        "\n",
        "#Making csv file\n",
        "output = pd.DataFrame({\n",
        "    'ID': test_data['ID'],\n",
        "    'TARGET': pred\n",
        "})\n",
        "output.to_csv((r'/gdrive/MyDrive/CIS508/Assignment_5/Problem_2_GA/list/rf_top50_pred.xlsx'), index=False)\n"
      ],
      "metadata": {
        "colab": {
          "base_uri": "https://localhost:8080/"
        },
        "id": "NNvbm3me8iEx",
        "outputId": "e1f6fb87-9497-42ce-f756-81bc93edfcc1"
      },
      "execution_count": null,
      "outputs": [
        {
          "output_type": "stream",
          "name": "stdout",
          "text": [
            "=== All Accuracy Scores ===\n",
            "[0.69272802 0.72930156 0.72852095 0.74541769 0.70701726 0.71286497\n",
            " 0.75752123 0.71185976 0.76500685 0.75897836 0.73195015 0.75308683\n",
            " 0.73551393 0.75770571 0.74741268 0.78547582 0.76720494 0.75768666\n",
            " 0.74051166 0.74765853]\n",
            "\n",
            "\n",
            "=== Mean Accuracy Score ===\n",
            "Mean Accuracy Score:  0.7416711773294021\n",
            "\n",
            "\n"
          ]
        }
      ]
    },
    {
      "cell_type": "markdown",
      "source": [
        "(2) Gradient boost model (with Top 25, Top 50 features)"
      ],
      "metadata": {
        "id": "180RfSDn5frF"
      }
    },
    {
      "cell_type": "code",
      "source": [
        "#Final Gradient boost model with best hyperparameters\n",
        "#Top 25 Features\n",
        "\n",
        "\n",
        "clf = GradientBoostingClassifier(max_depth=9, learning_rate=0.2717804619672004, n_estimators=95)  \n",
        "\n",
        "cv_score = cross_val_score(clf, X_gb25, y_train, cv=20, scoring=\"balanced_accuracy\")\n",
        "print(\"=== All Accuracy Scores ===\")\n",
        "print(cv_score)\n",
        "print('\\n')\n",
        "print(\"=== Mean Accuracy Score ===\")\n",
        "print(\"Mean Accuracy Score: \",cv_score.mean())\n",
        "print('\\n')\n",
        "\n",
        "#Learning\n",
        "clf.fit(X_gb25, y_train)\n",
        "pred = clf.predict(X_test_gb25)\n",
        "\n",
        "\n",
        "#Making csv file\n",
        "output = pd.DataFrame({\n",
        "    'ID': test_data['ID'],\n",
        "    'TARGET': pred\n",
        "})\n",
        "output.to_csv((r'/gdrive/MyDrive/CIS508/Assignment_5/Problem_2_GA/list/gb_top25_pred.xlsx'), index=False)"
      ],
      "metadata": {
        "colab": {
          "base_uri": "https://localhost:8080/"
        },
        "id": "r_BnL9cD9OfW",
        "outputId": "21e7b4e9-195c-415e-85e0-f672fef166a1"
      },
      "execution_count": null,
      "outputs": [
        {
          "output_type": "stream",
          "name": "stdout",
          "text": [
            "=== All Accuracy Scores ===\n",
            "[0.50717064 0.51068748 0.51415776 0.51027664 0.53292523 0.51456861\n",
            " 0.5172172  0.50762805 0.52484251 0.50164612 0.51708025 0.51013969\n",
            " 0.5123333  0.51123741 0.50089268 0.53663159 0.51454867 0.51509662\n",
            " 0.51840787 0.51840787]\n",
            "\n",
            "\n",
            "=== Mean Accuracy Score ===\n",
            "Mean Accuracy Score:  0.5147948100002453\n",
            "\n",
            "\n"
          ]
        }
      ]
    },
    {
      "cell_type": "code",
      "source": [
        "#Final Gradient boost model with best hyperparameters\n",
        "#Top 50 Features\n",
        "\n",
        "\n",
        "clf = GradientBoostingClassifier(max_depth=8, learning_rate=0.29641261684172, n_estimators=98)   \n",
        "\n",
        "cv_score = cross_val_score(clf, X_gb50, y_train, cv=20, scoring=\"balanced_accuracy\")\n",
        "print(\"=== All Accuracy Scores ===\")\n",
        "print(cv_score)\n",
        "print('\\n')\n",
        "print(\"=== Mean Accuracy Score ===\")\n",
        "print(\"Mean Accuracy Score: \",cv_score.mean())\n",
        "print('\\n')\n",
        "\n",
        "#Learning\n",
        "clf.fit(X_gb50, y_train)\n",
        "pred = clf.predict(X_test_gb50)\n",
        "\n",
        "\n",
        "#Making csv file\n",
        "output = pd.DataFrame({\n",
        "    'ID': test_data['ID'],\n",
        "    'TARGET': pred\n",
        "})\n",
        "output.to_csv((r'/gdrive/MyDrive/CIS508/Assignment_5/Problem_2_GA/list/gb_top50_pred.xlsx'), index=False)"
      ],
      "metadata": {
        "colab": {
          "base_uri": "https://localhost:8080/"
        },
        "id": "dU4zksJX9-a5",
        "outputId": "235e5cd0-a229-4309-b66c-06c5f1166374"
      },
      "execution_count": null,
      "outputs": [
        {
          "output_type": "stream",
          "name": "stdout",
          "text": [
            "=== All Accuracy Scores ===\n",
            "[0.50214736 0.51575459 0.50630238 0.49990961 0.49726102 0.49895097\n",
            " 0.50004656 0.49730759 0.5128321  0.50643933 0.51643933 0.50616543\n",
            " 0.5037458  0.50692008 0.50098249 0.51989114 0.51077928 0.50401978\n",
            " 0.49837975 0.50582419]\n",
            "\n",
            "\n",
            "=== Mean Accuracy Score ===\n",
            "Mean Accuracy Score:  0.5055049393995121\n",
            "\n",
            "\n"
          ]
        }
      ]
    }
  ]
}